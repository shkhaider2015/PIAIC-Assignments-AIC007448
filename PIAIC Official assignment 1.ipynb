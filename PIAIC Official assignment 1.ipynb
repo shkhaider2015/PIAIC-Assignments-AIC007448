{
 "cells": [
  {
   "cell_type": "markdown",
   "metadata": {},
   "source": [
    "## 1. Calculate Area of a Circle"
   ]
  },
  {
   "cell_type": "markdown",
   "metadata": {},
   "source": [
    "#### Write a Python program which accepts the radius of a circle from the user and compute the area.\n",
    "###### Program Console Sample Output 1:\n",
    "###### Input Radius: 0.5\n",
    "###### Area of Circle with radius 0.5 is 0.7853981634"
   ]
  },
  {
   "cell_type": "code",
   "execution_count": 1,
   "metadata": {},
   "outputs": [
    {
     "name": "stdout",
     "output_type": "stream",
     "text": [
      "input radius: 18\n",
      "area of circle with radius 18 is 1017.36\n"
     ]
    }
   ],
   "source": [
    "radius = int(input(\"input radius: \"))\n",
    "print(f\"area of circle with radius {radius} is {radius * radius * 3.14}\")"
   ]
  },
  {
   "cell_type": "markdown",
   "metadata": {},
   "source": [
    "## 2. Check Number either positive, negative or zero"
   ]
  },
  {
   "cell_type": "markdown",
   "metadata": {},
   "source": [
    "#### Write a Python program to check if a number is positive, negative or zero\n",
    "###### Program Console Sample Output 1:\n",
    "###### Enter Number: -1\n",
    "##### Negative Number Entered\n",
    "###### Program Console Sample Output 2:\n",
    "##### Integer: 3\n",
    "##### Positive Number Entered\n",
    "###### Program Console Sample Output 3:\n",
    "##### Integer: 0\n",
    "###### Zero Entered"
   ]
  },
  {
   "cell_type": "code",
   "execution_count": 2,
   "metadata": {},
   "outputs": [
    {
     "name": "stdout",
     "output_type": "stream",
     "text": [
      "enter number: 6\n",
      "positive number entered\n"
     ]
    }
   ],
   "source": [
    "user_input = int(input(\"enter number: \"))\n",
    "if user_input < 0:\n",
    "    print(\"negative number entered\")\n",
    "elif user_input > 0:\n",
    "    print(\"positive number entered\")\n",
    "else:\n",
    "    print(\"zero entered\")"
   ]
  },
  {
   "cell_type": "markdown",
   "metadata": {},
   "source": [
    "## 3. Divisibility Check of two numbers"
   ]
  },
  {
   "cell_type": "markdown",
   "metadata": {},
   "source": [
    "#### Write a Python program to check whether a number is completely divisible by another number. Accept two integer values form the user\n",
    "##### Program Console Sample Output 1:\n",
    "###### Enter numerator: 4\n",
    "###### Enter Denominator: 2\n",
    "##### Number 4 is Completely divisible by 2\n",
    "###### Program Console Sample Output 2:\n",
    "##### Enter numerator: 7\n",
    "\n",
    "##### Enter Denominator: 4\n",
    "###### Number 7 is not Completely divisible by 4"
   ]
  },
  {
   "cell_type": "code",
   "execution_count": 3,
   "metadata": {},
   "outputs": [
    {
     "name": "stdout",
     "output_type": "stream",
     "text": [
      "enter numerator: 6\n",
      "enter denominator: 7\n",
      "number 6 is not completely divisible by number 7\n"
     ]
    }
   ],
   "source": [
    "num_1 = int(input(\"enter numerator: \"))\n",
    "num_2 = int(input(\"enter denominator: \"))\n",
    "if num_1 % num_2 == 0:\n",
    "    print(f\"number {num_1} is completely divisible by number {num_2}\")\n",
    "else:\n",
    "    print(f\"number {num_1} is not completely divisible by number {num_2}\")"
   ]
  },
  {
   "cell_type": "markdown",
   "metadata": {},
   "source": [
    "## 4. Calculate Volume of a sphere"
   ]
  },
  {
   "cell_type": "markdown",
   "metadata": {},
   "source": [
    "##### Write a Python program to get the volume of a sphere, please take the radius as input from user"
   ]
  },
  {
   "cell_type": "markdown",
   "metadata": {},
   "source": [
    "##### Program Console Output:\n",
    "##### Enter Radius of Sphere: 1\n",
    "###### Volume of the Sphere with Radius 1 is 4.18"
   ]
  },
  {
   "cell_type": "code",
   "execution_count": 7,
   "metadata": {},
   "outputs": [
    {
     "name": "stdout",
     "output_type": "stream",
     "text": [
      "enter radius of sphere: 5\n",
      "volume of sphere with radius 5 is 523\n"
     ]
    }
   ],
   "source": [
    "s_radius = int(input(\"enter radius of sphere: \"))\n",
    "volume = 4/3 * 3.14 * (s_radius ** 3)\n",
    "print(f\"volume of sphere with radius {s_radius} is {int(volume)}\")"
   ]
  },
  {
   "cell_type": "markdown",
   "metadata": {},
   "source": [
    "## 5. Copy string n times\n",
    "#### Write a Python program to get a string which is n (non-negative integer) copies of a given string.\n",
    "##### Program Console Output:\n",
    "##### Enter String: Hi\n",
    "###### How many copies of String you need: 4\n",
    "###### 4 Copies of Hi are HiHiHiHi"
   ]
  },
  {
   "cell_type": "code",
   "execution_count": 11,
   "metadata": {},
   "outputs": [
    {
     "name": "stdout",
     "output_type": "stream",
     "text": [
      "please enter any string: Ali\n",
      "alright how many copies of this you need? 5\n",
      " 5 copies of Ali are AliAliAliAliAli\n"
     ]
    }
   ],
   "source": [
    "user_string = input(\"please enter any string: \")\n",
    "copies = int(input(\"alright how many copies of this you need? \"))\n",
    "print(f\" {copies} copies of {user_string} are {user_string * copies}\")"
   ]
  },
  {
   "cell_type": "markdown",
   "metadata": {},
   "source": [
    "## 6. Check if number is Even or Odd\n",
    "### Write a Python program to find whether a given number (accept from the user) is even or odd, print out an appropriate message to the user\n",
    "#### Program Console Output 1:\n",
    "##### Enter Number: 4\n",
    "###### 4 is Even\n",
    "#### Program Console Output 2:\n",
    "##### Enter Number: 9\n",
    "###### 9 is Odd"
   ]
  },
  {
   "cell_type": "code",
   "execution_count": 8,
   "metadata": {},
   "outputs": [
    {
     "name": "stdout",
     "output_type": "stream",
     "text": [
      "enter a number here and let us tell you whether it's even or odd: 3\n",
      "it's an odd one\n"
     ]
    }
   ],
   "source": [
    "number = int(input(\"enter a number here and let us tell you whether it's even or odd: \"))\n",
    "if number % 2 == 0:\n",
    "    print(\"it's even number\")\n",
    "else:\n",
    "    print(\"it's an odd one\")"
   ]
  },
  {
   "cell_type": "markdown",
   "metadata": {},
   "source": [
    "## 7. Vowel Tester\n",
    "### Write a Python program to test whether a passed letter is a vowel or not\n",
    "#### Program Console Output 1:\n",
    "##### Enter a character: A\n",
    "###### Letter A is Vowel\n",
    "#### Program Console Output 2:\n",
    "##### Enter a character: e\n",
    "###### Letter e is Vowel\n",
    "#### Program Console Output 2:\n",
    "##### Enter a character: N\n",
    "###### Letter N is not Vowel"
   ]
  },
  {
   "cell_type": "code",
   "execution_count": 13,
   "metadata": {},
   "outputs": [
    {
     "name": "stdout",
     "output_type": "stream",
     "text": [
      "enter a letter here to check whether it's vowel or not: u\n",
      " letter u is a vowel\n"
     ]
    }
   ],
   "source": [
    "vowel = [\"a\", \"e\", \"i\", \"o\", \"u\"]\n",
    "user_input = input(\"enter a letter here to check whether it's vowel or not: \")\n",
    "for alphabet in vowel:\n",
    "    if user_input == alphabet:\n",
    "        print(f\" letter {user_input} is a vowel\")\n",
    "        break\n",
    "else:\n",
    "    print(f\"letter {user_input} is not a vowel\")"
   ]
  },
  {
   "cell_type": "markdown",
   "metadata": {},
   "source": [
    "## 8. Triangle area\n",
    "### Write a Python program that will accept the base and height of a triangle and compute the area\n",
    "###### Reference:\n",
    "https://www.mathgoodies.com/lessons/vol1/area_triangle"
   ]
  },
  {
   "cell_type": "code",
   "execution_count": 1,
   "metadata": {},
   "outputs": [
    {
     "name": "stdout",
     "output_type": "stream",
     "text": [
      "enter height of the triangle: 7\n",
      "enter base of the triangle: 8\n",
      "the area of this triangle is 28.0\n"
     ]
    }
   ],
   "source": [
    "h = int(input(\"enter height of the triangle: \"))\n",
    "b = int(input(\"enter base of the triangle: \"))\n",
    "print(f\"the area of this triangle is {(h*b)/2}\")"
   ]
  },
  {
   "cell_type": "markdown",
   "metadata": {},
   "source": [
    "## 9. Calculate Interest\n",
    "### Write a Python program to compute the future value of a specified principal amount, rate of interest, and a number of years\n",
    "#### Program Console Sample 1:\n",
    "##### Please enter principal amount: 10000\n",
    "###### Please Enter Rate of interest in %: 0.1\n",
    "###### Enter number of years for investment: 5\n",
    "###### After 5 years your principal amount 10000 over an interest rate of 0.1 % will be 16105.1"
   ]
  },
  {
   "cell_type": "code",
   "execution_count": 1,
   "metadata": {},
   "outputs": [
    {
     "name": "stdout",
     "output_type": "stream",
     "text": [
      "please enter principal amount here: 100000\n",
      "please enter rate of interest in %: 2.5\n",
      "please enter number of years for investment: 5\n",
      "after 5 years amount 100000 over an interest rate of 2.5 will be 12500.0\n"
     ]
    }
   ],
   "source": [
    "amount = int(input(\"please enter principal amount here: \"))\n",
    "rate = float(input(\"please enter rate of interest in %: \"))\n",
    "duration = int(input(\"please enter number of years for investment: \"))\n",
    "print(f\"after {duration} years amount {amount} over an interest rate of {rate} will be {(amount/100) * rate * duration}\")"
   ]
  },
  {
   "cell_type": "markdown",
   "metadata": {},
   "source": [
    "## 10. Euclidean distance\n",
    "### write a Python program to compute the distance between the points (x1, y1) and (x2, y2).\n",
    "#### Program Console Sample 1:\n",
    "###### Enter Co-ordinate for x1: 2\n",
    "###### Enter Co-ordinate for x2: 4\n",
    "###### Enter Co-ordinate for y1: 4\n",
    "###### Enter Co-ordinate for y2: 4\n",
    "###### Distance between points (2, 4) and (4, 4) is 2"
   ]
  },
  {
   "cell_type": "markdown",
   "metadata": {},
   "source": [
    "###### Reference:\n",
    "https://en.wikipedia.org/wiki/Euclidean_distance"
   ]
  },
  {
   "cell_type": "code",
   "execution_count": 16,
   "metadata": {},
   "outputs": [
    {
     "name": "stdout",
     "output_type": "stream",
     "text": [
      "enter co-ordinate for x1: 2\n",
      "enter co-ordinate for x2: 4\n",
      "enter co-ordinate for y1: 4\n",
      "enter co-ordinate for y2: 4\n",
      "distance between points (2, 4) and (4, 4) is 2.0\n"
     ]
    }
   ],
   "source": [
    "co_x1 = int(input(\"enter co-ordinate for x1: \"))\n",
    "co_x2 = int(input(\"enter co-ordinate for x2: \"))\n",
    "co_y1 = int(input(\"enter co-ordinate for y1: \"))\n",
    "co_y2 = int(input(\"enter co-ordinate for y2: \"))\n",
    "sum_calc = (co_x1 - co_y1)**2 + (co_x2 - co_y2)**2\n",
    "import math\n",
    "ans = math.sqrt(sum_calc)\n",
    "print(f\"distance between points {co_x1, co_y1} and {co_x2, co_y2} is {ans}\")\n"
   ]
  },
  {
   "cell_type": "code",
   "execution_count": null,
   "metadata": {},
   "outputs": [],
   "source": []
  },
  {
   "cell_type": "code",
   "execution_count": null,
   "metadata": {},
   "outputs": [],
   "source": []
  },
  {
   "cell_type": "code",
   "execution_count": null,
   "metadata": {},
   "outputs": [],
   "source": []
  },
  {
   "cell_type": "markdown",
   "metadata": {},
   "source": [
    "## 11. Feet to Centimeter Converter\n",
    "### Write a Python program to convert height in feet to centimetres.\n",
    "##### Program Console Sample 1:\n",
    "###### Enter Height in Feet: 5\n",
    "###### There are 152.4 Cm in 5 ft\n",
    "###### Reference:\n",
    "https://www.rapidtables.com/convert/length/feet-to-cm.html"
   ]
  },
  {
   "cell_type": "code",
   "execution_count": 4,
   "metadata": {},
   "outputs": [
    {
     "name": "stdout",
     "output_type": "stream",
     "text": [
      "enter height of an object in feet: 3\n",
      "the height of this object in cm is 91.44\n"
     ]
    }
   ],
   "source": [
    "height = int(input(\"enter height of an object in feet: \"))\n",
    "cm = 30.48\n",
    "print(f\"the height of this object in cm is {height * cm}\")"
   ]
  },
  {
   "cell_type": "markdown",
   "metadata": {},
   "source": [
    "## 12. BMI Calculator\n",
    "### Write a Python program to calculate body mass index\n",
    "##### Program Console Sample 1:\n",
    "###### Enter Height in Cm: 180\n",
    "###### Enter Weight in Kg: 75\n",
    "###### Your BMI is 23.15"
   ]
  },
  {
   "cell_type": "code",
   "execution_count": 5,
   "metadata": {},
   "outputs": [
    {
     "name": "stdout",
     "output_type": "stream",
     "text": [
      "enter your height in cm in order to get your exact wieght: 180\n",
      "your exact weight is 75.0\n"
     ]
    }
   ],
   "source": [
    "ft = 30\n",
    "h_cm = int(input(\"enter your height in cm in order to get your exact wieght: \"))\n",
    "print(f\"your exact weight is {h_cm / 30 * 12.5}\")"
   ]
  },
  {
   "cell_type": "markdown",
   "metadata": {},
   "source": [
    "## 13. Sum of n Positive Integers\n",
    "### Write a python program to sum of the first n positive integers\n",
    "#### Program Console Sample 1:\n",
    "###### Enter value of n: 5\n",
    "###### Sum of n Positive integers till 5 is 15"
   ]
  },
  {
   "cell_type": "code",
   "execution_count": 3,
   "metadata": {},
   "outputs": [
    {
     "name": "stdout",
     "output_type": "stream",
     "text": [
      "enter value of n: 4\n",
      "sum of n positive integers till 4 is 10\n"
     ]
    }
   ],
   "source": [
    "value = int(input(\"enter value of n: \"))\n",
    "for input_value in range(1,9):\n",
    "        print(f\"sum of n positive integers till {value} is {sum(numbers[:value])}\")\n",
    "        break"
   ]
  },
  {
   "cell_type": "markdown",
   "metadata": {},
   "source": [
    "## 14. Digits Sum of a Number\n",
    "### Write a Python program to calculate the sum of the digits in an integer\n",
    "#### Program Console Sample 1:\n",
    "##### Enter a number: 15\n",
    "###### Sum of 1 + 5 is 6\n",
    "#### Program Console Sample 2:\n",
    "##### Enter a number: 1234\n",
    "###### Sum of 1 + 2 + 3 + 4 is 10"
   ]
  },
  {
   "cell_type": "code",
   "execution_count": 57,
   "metadata": {},
   "outputs": [
    {
     "name": "stdout",
     "output_type": "stream",
     "text": [
      "enter a number here: 23\n",
      "sum of 2 + 3 is 5\n"
     ]
    }
   ],
   "source": [
    "n_input = input(\"enter a number here: \")\n",
    "calc = 0\n",
    "plus = \"\"\n",
    "for digit in n_input[:-1]:\n",
    "    calc += int(digit)\n",
    "    plus += digit + \" + \"\n",
    "    remainder = n_input[-1]\n",
    "print(f\"sum of {plus + remainder} is {calc + int(remainder)}\")"
   ]
  },
  {
   "cell_type": "code",
   "execution_count": null,
   "metadata": {},
   "outputs": [],
   "source": []
  },
  {
   "cell_type": "code",
   "execution_count": null,
   "metadata": {},
   "outputs": [],
   "source": []
  },
  {
   "cell_type": "code",
   "execution_count": null,
   "metadata": {},
   "outputs": [],
   "source": []
  },
  {
   "cell_type": "code",
   "execution_count": null,
   "metadata": {},
   "outputs": [],
   "source": []
  }
 ],
 "metadata": {
  "kernelspec": {
   "display_name": "Python 3",
   "language": "python",
   "name": "python3"
  },
  "language_info": {
   "codemirror_mode": {
    "name": "ipython",
    "version": 3
   },
   "file_extension": ".py",
   "mimetype": "text/x-python",
   "name": "python",
   "nbconvert_exporter": "python",
   "pygments_lexer": "ipython3",
   "version": "3.7.3"
  }
 },
 "nbformat": 4,
 "nbformat_minor": 2
}
